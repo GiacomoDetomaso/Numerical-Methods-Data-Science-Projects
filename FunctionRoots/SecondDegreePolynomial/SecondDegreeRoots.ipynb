{
 "cells": [
  {
   "cell_type": "markdown",
   "metadata": {},
   "source": [
    "# Roots of a second degree polynomial\n",
    "\n",
    "Implementation of an algorithm which calculates the roots of a second degree polynomial, reducing the errors committed with the floating point arithmetic.\n",
    "\n",
    "Considering p(x) = $x^2 - 2bx + c$. The roots $x_1$ e $x_2$ are calculated in the following way: \n",
    "- $x_1 = b + \\sqrt{b^2 - c}$\n",
    "- $x_2 = b - \\sqrt{b^2 - c}$\n",
    "\n",
    "These formulas' problems are the following: \n",
    "1. If b < 0: $x_1$ calculation will present another subtraction\n",
    "2. If b > 0: $x_2$ calculation will present the same problem discussed in point 1\n",
    "3. The power could generate an overflow\n",
    "\n",
    "Subtracion is an operation that could cause a lot of trouble in terms of roundings operated by the calculator, so we have to put a limit to its use."
   ]
  },
  {
   "cell_type": "code",
   "execution_count": 1,
   "metadata": {},
   "outputs": [],
   "source": [
    "import numpy as np\n",
    "\n",
    "# considering p(x) = x^2 - 2*6x + 7\n",
    "b = 6\n",
    "c = 7"
   ]
  },
  {
   "cell_type": "markdown",
   "metadata": {},
   "source": [
    "## Subtraction problem solution\n",
    "\n",
    "A possible solution to the first problem is to use this formula: $x_1*x_2 = c$, in order to put: \n",
    "- $x_1 = c / x_2$\n",
    "- $x_2 = c/x_1$\n",
    "\n",
    "The first and necessary step is to calculate one of the two $x$, using the basic formulas (the ones with sqrt) but it is **extremely important to choose the right one according to the value of b.** "
   ]
  },
  {
   "cell_type": "code",
   "execution_count": 2,
   "metadata": {},
   "outputs": [
    {
     "name": "stdout",
     "output_type": "stream",
     "text": [
      "x1: 11.385164807134505\n",
      "x2: 0.6148351928654959\n"
     ]
    }
   ],
   "source": [
    "rad = (lambda b, c: np.sqrt((b**2) - c))\n",
    "\n",
    "if b > 0:\n",
    "    x_1 = b + rad(b, c)\n",
    "    x_2 = c / x_1\n",
    "else: \n",
    "    x_2 = b - rad(b, c)\n",
    "    x_1 = c / x_2\n",
    "\n",
    "print(\"x1: {}\\nx2: {}\".format(x_1, x_2))"
   ]
  },
  {
   "cell_type": "markdown",
   "metadata": {},
   "source": [
    "If b > 0 then it is used: $x_1 = b + \\sqrt{b^2 - c}$. \n",
    "\n",
    "Similarly if b < 0, it is used: $x_2 = b - \\sqrt{b^2 - c}$.\n",
    "\n",
    "In this way the errors introduced by operations with different signs are reduced, and the result is far more accurate."
   ]
  },
  {
   "cell_type": "markdown",
   "metadata": {},
   "source": [
    "## Overflow solution\n",
    "\n",
    "To solve the overflow problem we have to completely eliminate the power operation on b.\n",
    "\n",
    "We can operate this transformation inside the square root: $\\sqrt{b^2 - c} = \\sqrt{b^2(1 - c/b^2)} = b\\sqrt{1 - (c/b) * (1/b)}$\n",
    "\n",
    "Highlight $b^2$ it's possible to put it OUTSIDE the square root (eliminating the power). We can now decompose the fraction $c/b^2$ into the product $(c/b * 1/b)$. In this way the overflow's errors on $b^2$ are eliminated."
   ]
  },
  {
   "cell_type": "code",
   "execution_count": 3,
   "metadata": {},
   "outputs": [
    {
     "name": "stdout",
     "output_type": "stream",
     "text": [
      "x1: 11.385164807134505\n",
      "x2: 0.6148351928654959\n"
     ]
    }
   ],
   "source": [
    "rad = (lambda b, c: b * np.sqrt(1 - ((c/b)*(1/b))))\n",
    "\n",
    "if b > 0:\n",
    "    x_1 = b + rad(b, c)\n",
    "    x_2 = c / x_1\n",
    "else: \n",
    "    x_2 = b - rad(b, c)\n",
    "    x_1 = c / x_2\n",
    "\n",
    "print(\"x1: {}\\nx2: {}\".format(x_1, x_2))"
   ]
  },
  {
   "cell_type": "markdown",
   "metadata": {},
   "source": [
    "## Graph of the roots"
   ]
  },
  {
   "cell_type": "code",
   "execution_count": 7,
   "metadata": {},
   "outputs": [
    {
     "data": {
      "text/plain": [
       "<matplotlib.legend.Legend at 0x2815d30f970>"
      ]
     },
     "execution_count": 7,
     "metadata": {},
     "output_type": "execute_result"
    },
    {
     "data": {
      "image/png": "[encoded data removed]",
      "text/plain": [
       "<Figure size 432x288 with 1 Axes>"
      ]
     },
     "metadata": {
      "needs_background": "light"
     },
     "output_type": "display_data"
    }
   ],
   "source": [
    "import matplotlib.pyplot as plt\n",
    "\n",
    "func = (lambda x, b, c: np.power(x, 2) + (-2*b*x) + c) # function\n",
    "x1 = 11.385164807134505\n",
    "x2 = 0.6148351928654959\n",
    "\n",
    "pts = np.linspace(0, 12, 300)\n",
    "plt.plot(pts, func(pts, b, c), '-m', label='$p(x) = x^2 -12x +7$')\n",
    "plt.plot(pts,0*pts,'b',label = '$y=0$')\n",
    "plt.plot(x1, 0,'pr', label = '$x_1$') # disegno la prima radice\n",
    "plt.plot(x2, 0, 'pk', label = '$x_2$') # disegno la seconda radice\n",
    "plt.legend()"
   ]
  }
 ],
 "metadata": {
  "interpreter": {
   "hash": "6eb13ab29daf573729545da6f0d2f79c864ee437e864bd94356d9902b1b61c7e"
  },
  "kernelspec": {
   "display_name": "Python 3.8.8 64-bit ('base': conda)",
   "name": "python3"
  },
  "language_info": {
   "codemirror_mode": {
    "name": "ipython",
    "version": 3
   },
   "file_extension": ".py",
   "mimetype": "text/x-python",
   "name": "python",
   "nbconvert_exporter": "python",
   "pygments_lexer": "ipython3",
   "version": "3.8.8"
  },
  "orig_nbformat": 4
 },
 "nbformat": 4,
 "nbformat_minor": 2
}
